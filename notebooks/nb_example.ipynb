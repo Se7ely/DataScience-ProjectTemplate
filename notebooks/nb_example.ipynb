{
 "metadata": {
  "language_info": {
   "codemirror_mode": {
    "name": "ipython",
    "version": 3
   },
   "file_extension": ".py",
   "mimetype": "text/x-python",
   "name": "python",
   "nbconvert_exporter": "python",
   "pygments_lexer": "ipython3",
   "version": 3
  },
  "orig_nbformat": 2
 },
 "nbformat": 4,
 "nbformat_minor": 2,
 "cells": [
  {
   "source": [
    "# State Purpose of the Notebook"
   ],
   "cell_type": "markdown",
   "metadata": {}
  },
  {
   "source": [
    "### Tips for notebook templates\n",
    "- Single notebook, single purpose\n",
    "- No function definitions or complex code logic\n",
    "- All logic should be in utility functions that can be imported in the notebook\n",
    "- ~4 LOC is the maximum per cell\n",
    "- Add section headers\n",
    "- Add conclusion cells"
   ],
   "cell_type": "markdown",
   "metadata": {}
  }
 ]
}